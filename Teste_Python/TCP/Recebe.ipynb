{
 "cells": [
  {
   "cell_type": "code",
   "execution_count": 13,
   "metadata": {},
   "outputs": [],
   "source": [
    "import socket\n",
    "import threading\n",
    "\n",
    "from tkinter import *\n",
    "from tkinter import filedialog"
   ]
  },
  {
   "cell_type": "code",
   "execution_count": 14,
   "metadata": {},
   "outputs": [
    {
     "name": "stdout",
     "output_type": "stream",
     "text": [
      "o cliente =  ('127.0.0.1', 56140)  se conectou\n"
     ]
    }
   ],
   "source": [
    "MEU_IP = ''  \n",
    " # Endereco IP do Servidor, '' = significa que ouvira em todas as interfaces\n",
    "\n",
    "MINHA_PORTA = 8000  \n",
    "# Porta que o Servidor vai ouvir \n",
    "\n",
    "tcp = socket.socket(socket.AF_INET, socket.SOCK_STREAM)\n",
    "# socket.AF_INET = INET (exemplo IPv4)sockets, #socket.SOCK_STREAM=usaremos TCP\n",
    "\n",
    "#x = 1\n",
    "testa_mensagem = ''\n",
    "MEU_SERVIDOR = (MEU_IP, MINHA_PORTA) \n",
    "tcp.bind(MEU_SERVIDOR)\n",
    " # faz o bind do ip e a porta para que possa comecar a ouvir\n",
    "\n",
    "tcp.listen(1) \n",
    "#comeca a ouvir\n",
    "\n",
    "users = []\n",
    "#dados de cada usuário\n",
    "\n",
    "conexao, docliente =tcp.accept()\n",
    "print (\"o cliente = \", docliente, \" se conectou\")\n",
    "#pega o ip do cliente que conectou\n",
    "\n",
    "user = {'apelido':'', 'ip':'', 'cont':0}"
   ]
  },
  {
   "cell_type": "code",
   "execution_count": 15,
   "metadata": {},
   "outputs": [],
   "source": [
    "def recebendoMensagem(lbl):\n",
    "  while 1:\n",
    "    Mensagem = ''\n",
    "    #Recebe mensagem\n",
    "    Mensagem_Recebida = conexao.recv(1024).decode(\"utf-8\")\n",
    "    #Mensagem recebida do cliente \n",
    "    if testa_mensagem != Mensagem_Recebida:  \n",
    "      \n",
    "    #aqui verifica se exite mensagem nova  \n",
    "      if user['cont'] == 0:\n",
    "        user['apelido'] = Mensagem_Recebida\n",
    "        user['ip'] = docliente\n",
    "        # users.append(user.copy)\n",
    "        \n",
    "        Mensagem = \"Nome: \"+ user['apelido'] +\" recebido\"\n",
    "        print(Mensagem)\n",
    "        lbl.config(text = Mensagem)\n",
    "\n",
    "        user['cont'] = 1\n",
    "\n",
    "      else:\n",
    "        Mensagem = user['apelido'] +\": \"+ Mensagem_Recebida\n",
    "        print(Mensagem)\n",
    "        lbl.config(text = Mensagem)"
   ]
  },
  {
   "cell_type": "code",
   "execution_count": 17,
   "metadata": {},
   "outputs": [],
   "source": [
    "def interface():\n",
    "\n",
    "    def dadosMensagem():\n",
    "        Mensagem = inputMensagem.get(1.0, \"end-1c\")\n",
    "        if Mensagem != \"\":\n",
    "            conexao.send(bytes(Mensagem,\"utf8\"))\n",
    "            # lbl.config (text = \"Enviado\")\n",
    "        else:\n",
    "            lbl.config (text = (\"Ok\"))\n",
    "\n",
    "    def close():\n",
    "        conexao.close()\n",
    "\n",
    "    root = Tk()\n",
    "\n",
    "    inputMensagem = Text(root)\n",
    "    inputMensagem[\"height\"] = 2\n",
    "    inputMensagem[\"width\"] = 50\n",
    "    inputMensagem[\"wrap\"] = WORD\n",
    "    inputMensagem.grid(column=0, row=0, padx=10, pady=10)\n",
    "    inputMensagem.pack()\n",
    "\n",
    "    lbl = Label(root)\n",
    "    lbl[\"text\"] = \"\"\n",
    "    lbl.pack()\n",
    "\n",
    "    mensagemButton = Button(root) \n",
    "    mensagemButton[\"text\"] = \"Enviar Mensagens\"\n",
    "    mensagemButton[\"command\"] = dadosMensagem\n",
    "    mensagemButton.pack()\n",
    "\n",
    "    mensagemButton = Button(root) \n",
    "    mensagemButton[\"text\"] = \"Fechar conexão\"\n",
    "    mensagemButton[\"command\"] = close\n",
    "    mensagemButton.pack()\n",
    "\n",
    "    threading.Thread(target=recebendoMensagem).start()\n",
    "    root.mainloop()"
   ]
  },
  {
   "cell_type": "code",
   "execution_count": 18,
   "metadata": {},
   "outputs": [],
   "source": [
    "interface()\n",
    "\n",
    "conexao.close()\n",
    "# finalizar o socket"
   ]
  }
 ],
 "metadata": {
  "kernelspec": {
   "display_name": "Python 3.10.6 64-bit",
   "language": "python",
   "name": "python3"
  },
  "language_info": {
   "codemirror_mode": {
    "name": "ipython",
    "version": 3
   },
   "file_extension": ".py",
   "mimetype": "text/x-python",
   "name": "python",
   "nbconvert_exporter": "python",
   "pygments_lexer": "ipython3",
   "version": "3.10.6"
  },
  "orig_nbformat": 4,
  "vscode": {
   "interpreter": {
    "hash": "369f2c481f4da34e4445cda3fffd2e751bd1c4d706f27375911949ba6bb62e1c"
   }
  }
 },
 "nbformat": 4,
 "nbformat_minor": 2
}
