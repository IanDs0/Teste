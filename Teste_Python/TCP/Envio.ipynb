{
 "cells": [
  {
   "cell_type": "code",
   "execution_count": 6,
   "metadata": {},
   "outputs": [],
   "source": [
    "import socket\n",
    "import threading\n",
    "\n",
    "from tkinter import *\n",
    "from tkinter import filedialog"
   ]
  },
  {
   "cell_type": "code",
   "execution_count": 7,
   "metadata": {},
   "outputs": [],
   "source": [
    "IP_Servidor = '127.0.0.1'             \n",
    "# Endereco IP do Servidor\n",
    "\n",
    "PORTA_Servidor = 8000\n",
    "# Porta em que o servidor estara ouvindo\n",
    "\n",
    "tcp = socket.socket(socket.AF_INET, socket.SOCK_STREAM)\n",
    "# socket.AF_INET = INET (exemplo IPv4)sockets, #socket.SOCK_STREAM=usaremos TCP\n",
    "\n",
    "DESTINO = (IP_Servidor, PORTA_Servidor) \n",
    "#destino(IP + porta)\n",
    "\n",
    "tcp.connect(DESTINO) \n",
    "# inicia a conexao TCP\n",
    "\n",
    "testa_mensagem=''\n",
    "\n",
    "user = {'apelido':'', 'server':'', 'cont':0}                      "
   ]
  },
  {
   "cell_type": "code",
   "execution_count": 8,
   "metadata": {},
   "outputs": [],
   "source": [
    "def recebendoMensagem(lbl,conversa):    \n",
    "    while True:\n",
    "        Mensagem = ''\n",
    "        #Recebe mensagem\n",
    "        Mensagem_Recebida = tcp.recv(1024).decode(\"utf-8\")\n",
    "        #Mensagem recebida do cliente \n",
    "        if testa_mensagem != Mensagem_Recebida:  \n",
    "        #aqui verifica se exite mensagem nova  \n",
    "            if user['cont'] == 0:\n",
    "                user['apelido'] = Mensagem_Recebida\n",
    "                user['server'] = DESTINO\n",
    "                \n",
    "                Mensagem = \"Apelido: \"+ user['apelido'] +\" recebido\"+\"\\n\"\n",
    "                \n",
    "                conversa.append(Mensagem)\n",
    "                lbl.config(text = conversa)\n",
    "                user['cont'] = 1\n",
    "            else:\n",
    "                Mensagem = user['apelido'] +\": \"+ Mensagem_Recebida+\"\\n\"\n",
    "                \n",
    "                conversa.append(Mensagem)\n",
    "                lbl.config(text = conversa)\n",
    "                "
   ]
  },
  {
   "cell_type": "code",
   "execution_count": 9,
   "metadata": {},
   "outputs": [],
   "source": [
    "def interface():\n",
    "\n",
    "    conversa = []\n",
    "\n",
    "    def dadosMensagem():\n",
    "        Mensagem = inputMensagem.get(1.0, \"end-1c\")\n",
    "        if Mensagem != \"\":\n",
    "            tcp.send(bytes(Mensagem,\"utf8\"))\n",
    "            if user['apelido'] == '':\n",
    "                Mensagem = 'Eu: ' + Mensagem+\"\\n\"\n",
    "                conversa.append(Mensagem)\n",
    "                lbl.config(text = conversa)\n",
    "            else:\n",
    "                Mensagem = user['apelido'] + ': ' + Mensagem+\"\\n\"\n",
    "                conversa.append(Mensagem)\n",
    "                lbl.config(text = conversa)\n",
    "        # elif()\n",
    "\n",
    "    def close():\n",
    "        tcp.close()\n",
    "\n",
    "    #Pegar o arquivo a ser enviado\n",
    "    def procuraArquivo(): \n",
    "        filename = filedialog.askopenfilename(initialdir = \"/\", \n",
    "            title = \"Select a File\", \n",
    "            filetypes = ((\"all files\", \"*.*\"),(\"all files\", \"*.*\"))) \n",
    "        \n",
    "        name = filename.split('/')\n",
    "        aviso = '#arquivo'+name[-1]+''\n",
    "        tcp.send(bytes(aviso,\"utf8\"))\n",
    "\n",
    "        # with open(filename,'rb') as file:\n",
    "        #     for part in file.readlines():\n",
    "        #         tcp.send(part)\n",
    "        #     print(\"arquivo enviado\")\n",
    "\n",
    "        # tcp.send()\n",
    "\n",
    "    root = Tk()\n",
    "\n",
    "    inputMensagem = Text(root)\n",
    "    inputMensagem[\"height\"] = 2\n",
    "    inputMensagem[\"width\"] = 50\n",
    "    inputMensagem[\"wrap\"] = WORD\n",
    "    inputMensagem.grid(column=0, row=0, padx=10, pady=10)\n",
    "    inputMensagem.pack()\n",
    "\n",
    "    lbl = Label(root)\n",
    "    lbl[\"text\"] = \"\"\n",
    "    lbl.pack()\n",
    "\n",
    "    mensagemButton = Button(root) \n",
    "    mensagemButton[\"text\"] = \"Enviar Mensagens\"\n",
    "    mensagemButton[\"command\"] = dadosMensagem\n",
    "    mensagemButton.pack()\n",
    "\n",
    "    button_explore = Button(root)  \n",
    "    button_explore[\"text\"] = \"Enviar Arquivo\" \n",
    "    button_explore[\"command\"] = procuraArquivo\n",
    "    button_explore.pack()\n",
    "\n",
    "    mensagemButton = Button(root) \n",
    "    mensagemButton[\"text\"] = \"Fechar\"\n",
    "    mensagemButton[\"command\"] = close\n",
    "    mensagemButton.pack()\n",
    "\n",
    "    threading.Thread(target=recebendoMensagem, args=(lbl,conversa,)).start()\n",
    "    root.mainloop()"
   ]
  },
  {
   "cell_type": "code",
   "execution_count": 10,
   "metadata": {},
   "outputs": [
    {
     "name": "stderr",
     "output_type": "stream",
     "text": [
      "Exception in Tkinter callback\n",
      "Traceback (most recent call last):\n",
      "  File \"c:\\Python310\\lib\\tkinter\\__init__.py\", line 1921, in __call__\n",
      "    return self.func(*args)\n",
      "  File \"C:\\Users\\ianha\\AppData\\Local\\Temp\\ipykernel_5016\\1597366786.py\", line 29, in procuraArquivo\n",
      "    tcp.send('#arquivo'+name[-1])\n",
      "TypeError: a bytes-like object is required, not 'str'\n",
      "Exception in thread Thread-4 (recebendoMensagem):\n",
      "Traceback (most recent call last):\n",
      "  File \"c:\\Python310\\lib\\threading.py\", line 1016, in _bootstrap_inner\n",
      "    self.run()\n",
      "  File \"c:\\Python310\\lib\\threading.py\", line 953, in run\n",
      "    self._target(*self._args, **self._kwargs)\n",
      "  File \"C:\\Users\\ianha\\AppData\\Local\\Temp\\ipykernel_5016\\287537891.py\", line 5, in recebendoMensagem\n",
      "ConnectionAbortedError: [WinError 10053] Uma conexão estabelecida foi anulada pelo software no computador host\n"
     ]
    }
   ],
   "source": [
    "interface()\n",
    "\n",
    "tcp.close()\n",
    "# finalizar o socket"
   ]
  }
 ],
 "metadata": {
  "kernelspec": {
   "display_name": "Python 3.10.6 64-bit",
   "language": "python",
   "name": "python3"
  },
  "language_info": {
   "codemirror_mode": {
    "name": "ipython",
    "version": 3
   },
   "file_extension": ".py",
   "mimetype": "text/x-python",
   "name": "python",
   "nbconvert_exporter": "python",
   "pygments_lexer": "ipython3",
   "version": "3.10.6"
  },
  "orig_nbformat": 4,
  "vscode": {
   "interpreter": {
    "hash": "369f2c481f4da34e4445cda3fffd2e751bd1c4d706f27375911949ba6bb62e1c"
   }
  }
 },
 "nbformat": 4,
 "nbformat_minor": 2
}
